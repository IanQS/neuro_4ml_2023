{
 "cells": [
  {
   "cell_type": "markdown",
   "metadata": {},
   "source": [
    "# Week 4 - Learning rules - Exercises\n",
    "\n",
    "This is an outline of the exercise only, leaving you a lot of details to fill in on your own. Later I will provide a more detailed version with some hints.\n",
    "\n",
    "## Task 1 - Implement STDP\n",
    "\n",
    "Implement a simulator including STDP using the efficient method from the STDP video.\n",
    "\n",
    "## Task 2 - Competition and latency\n",
    "\n",
    "Use your simulator to reproduce the competition and latency reduction results from this paper:\n",
    "\n",
    "[Song et al. (2000) \"Competitive Hebbian learning through spike-timing-dependent synaptic plasticity\"](https://doi.org/10.1038/78829)\n",
    "\n",
    "## Task 3 - Correlations\n",
    "\n",
    "Use your simulator to reproduce the correlated groups results from this paper:\n",
    "\n",
    "[Song and Abbott (2001) \"Cortical Development and Remapping through Spike Timing-Dependent Plasticity\"](https://doi.org/10.1016/S0896-6273(01)00451-2)\n",
    "\n",
    "## Task 4 - Sequences (optional)\n",
    "\n",
    "Use your simulator to reproduce the sequence learning results from this paper:\n",
    "\n",
    "[Masquelier et al. (2008) \"Spike Timing Dependent Plasticity Finds the Start of Repeating Patterns in Continuous Spike Trains\"](https://doi.org/10.1371/journal.pone.0001377)\n",
    "\n",
    "This might be quite challenging because this paper uses a different version of the STDP learning rule. For more details on how to reproduce this result, see:\n",
    "\n",
    "[Hathway and Goodman (2018) \"[Re] Spike Timing Dependent Plasticity Finds the Start of Repeating Patterns in Continuous Spike Trains\"](http://neural-reckoning.org/pub_re_stdp_repeating_patterns.html)\n",
    "\n",
    "Can you extend the results of these two papers to investigate how robust the results are to different versions of STDP, different parameters, etc.?"
   ]
  }
 ],
 "metadata": {
  "language_info": {
   "name": "python"
  }
 },
 "nbformat": 4,
 "nbformat_minor": 2
}
