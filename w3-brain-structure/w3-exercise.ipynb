{
 "cells": [
  {
   "cell_type": "markdown",
   "metadata": {},
   "source": [
    "# Neuro4ML - Week 3 - Brain structure\n",
    "\n",
    "This week we're going to analyse some real data, which come from larval zebrafish. \n",
    "\n",
    "Larval zebrafish are an increasingly used model in neuroscience for three main reasons:\n",
    "1. They develop rapidly ex utero, from a single cell to a free-swimming larva in just four days, meaning that their development can be easily studied.\n",
    "2. They display a variety of behaviours including a distinct locomotor repertoire, a diurnal pattern of activity and by three weeks of age, social preference.\n",
    "3. They have a vertebrate brain plan and at larval stages are small (~4mm body length) and translucent, enabling cellular-resolution whole-brain imaging in both fixed tissue and live animals. \n",
    "\n",
    "In this notebook we're going to look at the 3d morphology of ~4,000 neurons in the zebrafish brain. In brief these morphologies were obtained by: \n",
    "* Fluorescently labeling 1-2 neurons per animal.\n",
    "* Imaging each animal and tracing each neuron.\n",
    "* Aligning these images in 3d so that all neurons are in a common reference frame.  \n",
    "\n",
    "You can learn more about the data in [Kunst et al., 2019](https://doi.org/10.1016/j.neuron.2019.04.034) or on this [website](https://mapzebrain.org/home).  \n",
    "\n",
    "There are four parts to the exercise: loading the data, looking at the data, estimating a connectivity matrix and some open exploration. "
   ]
  },
  {
   "cell_type": "code",
   "execution_count": null,
   "metadata": {},
   "outputs": [],
   "source": [
    "import numpy as np\n",
    "import matplotlib.pyplot as plt\n",
    "import os\n",
    "\n",
    "!pip install neurom\n",
    "import neurom as nm\n",
    "from neurom.view.matplotlib_impl import plot_morph\n",
    "\n",
    "def figure(): \n",
    "    fig, ax = plt.subplots(figsize=[6, 8], sharex=True, sharey=True)\n",
    "    ax.set_aspect('equal')\n",
    "    ax.axis(\"off\")\n",
    "    plt.gca().invert_yaxis()\n",
    "\n",
    "    return fig, ax"
   ]
  },
  {
   "cell_type": "markdown",
   "metadata": {},
   "source": [
    "### Part 0 - Loading the data \n",
    "\n",
    "Before getting started we need to download the data. \n",
    "\n",
    "How to do this depends on how you're working: \n",
    "* **Locally**: download the data [here](https://api.mapzebrain.org/media/downloads/Neurons/mapZebrain__neurons.zip), unzip the folder and provide a path to the Aligned/Original folder in the cell below - something like './mapZebrain__neurons/Aligned/Original'. \n",
    "* **Colab**: run the three commands in the cell below to fetch, unzip and provide a path to the data."
   ]
  },
  {
   "cell_type": "code",
   "execution_count": null,
   "metadata": {},
   "outputs": [],
   "source": [
    "# Download the data \n",
    "\n",
    "# Locally:   \n",
    "# folder_path = \"\"  # provide a path to the Aligned/Original folder\n",
    "\n",
    "# Colab: \n",
    "# !wget https://api.mapzebrain.org/media/downloads/Neurons/mapZebrain__neurons.zip\n",
    "# !unzip /content/mapZebrain__neurons.zip \n",
    "# folder_path = \"/content/Aligned/Original\""
   ]
  },
  {
   "cell_type": "markdown",
   "metadata": {},
   "source": [
    "Next we need to understand the data and tools we'll be working with:\n",
    "* **Data**: Each neuron's morphology is stored as an .SWC file. Try opening one in a text editor, and then understanding the format using this [guide](http://www.neuronland.org/NLMorphologyConverter/MorphologyFormats/SWC/Spec.html).\n",
    "* **Tools**: We're going to use a library called [neurom](https://neurom.readthedocs.io/en/stable/quickstart.html) to load these .SWC files.\n",
    "\n",
    "Now we'll make a list of the neurons which we can successfully load with neurom. \n",
    "\n",
    "If this or later parts of the notebook run too slowly (more than a few minutes for a single cell) try working with a subset of the data by sampling from this list. "
   ]
  },
  {
   "cell_type": "code",
   "execution_count": null,
   "metadata": {},
   "outputs": [],
   "source": [
    "# Filtering\n",
    "neuron_paths = []\n",
    "for file in os.listdir(folder_path): \n",
    "    neuron_path = folder_path + '/' + file\n",
    " \n",
    "    try:\n",
    "        m = nm.load_morphology(neuron_path) # try to load the morphology\n",
    "        neuron_paths.append(neuron_path) # if this works appened the path to neuron_paths\n",
    "    except: \n",
    "        pass # otherwise just skip this neuron \n",
    "\n",
    "print(\"Loaded \" + str(len(neuron_paths)) + \" of \" + str(len(os.listdir(folder_path))) + \" neurons.\")"
   ]
  },
  {
   "cell_type": "markdown",
   "metadata": {},
   "source": [
    "### Part 1 - Looking at the data \n",
    "\n",
    "Now we can load the morphologies, let's try plotting some neurons in 2d. For random neurons, the code below plots:\n",
    "* It's morphology as a black line.\n",
    "* It's points as grey circles.\n",
    "* The location of it's soma as a green circle.\n",
    "\n",
    "Note how we access these properties from the loaded morphology. \n",
    "\n",
    "When working with real data, especially large datasets, it's important to get a \"feel\" for the data, so try looking at as many neurons as possible - how similar are they?"
   ]
  },
  {
   "cell_type": "code",
   "execution_count": null,
   "metadata": {},
   "outputs": [],
   "source": [
    "# Plotting single neurons in 2d \n",
    "n = np.random.randint(low=0, high=len(neuron_paths)) # sample a random neuron\n",
    "m = nm.load_morphology(neuron_paths[n]) # load it's morphology\n",
    "\n",
    "fig, ax = figure()\n",
    "plot_morph(m,ax=ax, soma_outline=0, plane='xy', diameter_scale=None, linewidth=3, color='k', alpha=1.0)\n",
    "plt.scatter(m.points[:,0], m.points[:,1], color='xkcd:grey')\n",
    "plt.scatter(m.soma.center[0], m.soma.center[1], s=90, color='g')"
   ]
  },
  {
   "cell_type": "markdown",
   "metadata": {},
   "source": [
    "Now try writing some code to plot single neurons in 3d."
   ]
  },
  {
   "cell_type": "code",
   "execution_count": null,
   "metadata": {},
   "outputs": [],
   "source": [
    "# Plotting single neurons in 3d\n",
    "fig = plt.figure()"
   ]
  },
  {
   "cell_type": "markdown",
   "metadata": {},
   "source": [
    "Now try to plot all of the neurons together on a single axis in either 2 or 3d. \n",
    "\n",
    "In general using a low alpha (transparency) value can be helpful for plots with many points.\n",
    "\n",
    "[Figure 1E](https://doi.org/10.1016/j.neuron.2019.04.034) could provide you with some inspiration for what this plot could look like!"
   ]
  },
  {
   "cell_type": "code",
   "execution_count": null,
   "metadata": {},
   "outputs": [],
   "source": [
    "# Plot all of the neurons together\n",
    "fig, ax = figure()"
   ]
  },
  {
   "cell_type": "markdown",
   "metadata": {},
   "source": [
    "### Part 2 - Estimating a connectivity matrix \n",
    "\n",
    "In week 3 of the course we learnt about [connectomes](https://youtu.be/LANmSbhbdBA?si=HKDoBD7IbS3o4Uhv) - diagrams describing how every neuron connects to every other neuron in an animal. \n",
    "\n",
    "To create a connectome we need higher resolution data (from electron microscopy), but from the data we have we can estimate how strongly *areas* of the brain connect to each other.\n",
    "\n",
    "Ideally we would do this by determining where each neuron's dendrites and axon were, dividing the brain into anatomical regions (optic tectum, cerebellum etc), and then working out where the dendrites in each region receive their inputs from. \n",
    "\n",
    "Though, as a *very rough estimate* we can:\n",
    "1. Treat each neuron as having a single input and output point; respectively it's soma and the furthest point from it's soma.\n",
    "2. Divide the brain into a 3d grid. \n",
    "3. Assign each neuron's input and output point to a pair of grid cells (which we'll term voxels). \n",
    "\n",
    "Let's work through each of these three steps."
   ]
  },
  {
   "cell_type": "markdown",
   "metadata": {},
   "source": [
    "#### Part 2.1\n",
    "Write code to define the output point for a single neuron. Check that it works by plotting some single neurons in either 2 or 3d and marking their output point with a coloured circle."
   ]
  },
  {
   "cell_type": "code",
   "execution_count": null,
   "metadata": {},
   "outputs": [],
   "source": [
    "# Define the output point for a single neuron\n",
    "n = np.random.randint(low=0, high=len(neuron_paths))\n",
    "m = nm.load_morphology(neuron_paths[n])\n",
    "\n",
    "# Check that this seems to work by plotting some data \n",
    "fig, ax = figure()\n"
   ]
  },
  {
   "cell_type": "markdown",
   "metadata": {},
   "source": [
    "Now load each neuron in turn and extract it's input (soma) and output (furthest point from soma) locations. \n",
    "\n",
    "Real datasets can contain small errors, and here you may find that some neuron's lack any points. \n",
    "\n",
    "In that case skip over those neurons as in Part 0, though make sure that you end up with an equal number of inputs and outputs by using an [assert statement](https://www.w3schools.com/python/ref_keyword_assert.asp) at the end of your code."
   ]
  },
  {
   "cell_type": "code",
   "execution_count": null,
   "metadata": {},
   "outputs": [],
   "source": [
    "# Define each neurons input and output point\n",
    "inputs, outputs = [], []\n",
    "\n",
    "# Use an assert statement at the end of your code "
   ]
  },
  {
   "cell_type": "markdown",
   "metadata": {},
   "source": [
    "Now try plotting all of the neurons (on one axis) as single lines connecting their input and output points. \n",
    "\n",
    "If you've done this correctly it should resemble the last figure in Part 1 surprisingly well.  "
   ]
  },
  {
   "cell_type": "code",
   "execution_count": null,
   "metadata": {},
   "outputs": [],
   "source": [
    "# Plot all of the neurons together in line form (input-output point)\n",
    "fig, ax = figure()"
   ]
  },
  {
   "cell_type": "markdown",
   "metadata": {},
   "source": [
    "#### Part 2.2\n",
    "\n",
    "Now we need to divide the brain into a 3d grid.\n",
    "\n",
    "Too coarse a grid may be uninformative, but too fine a grid may be overly sparse.\n",
    "\n",
    "Try to check if your grid seems reasonable by overlaying it on some whole-brain plots. "
   ]
  },
  {
   "cell_type": "code",
   "execution_count": null,
   "metadata": {},
   "outputs": [],
   "source": [
    "# Divide the brain into a 3d grid\n",
    "\n",
    "# Try to check if your grid seems reasonable (with some plots)"
   ]
  },
  {
   "cell_type": "markdown",
   "metadata": {},
   "source": [
    "#### Part 2.3 \n",
    "\n",
    "Finally we need to assign each neuron's input and output point to a pair of voxels. \n",
    "\n",
    "Create a voxel (input) x voxel (output) connectivity matrix where each cell reports the number of neuron's which connect that pair.  \n",
    "\n",
    "Try to visualise this matrix as a heatmap. "
   ]
  },
  {
   "cell_type": "code",
   "execution_count": null,
   "metadata": {},
   "outputs": [],
   "source": [
    "# Create a connectivity matrix \n",
    "\n",
    "# Visualise this matrix as a heatmap "
   ]
  },
  {
   "cell_type": "markdown",
   "metadata": {},
   "source": [
    "### Part 3 - Open exploration \n",
    "\n",
    "Now that you know how to work with this data, you should try to explore something that interests you!\n",
    "\n",
    "Here are a few ideas to get you started:\n",
    "* **Improving our approach** - as we highlighted above, our connectivity matrix is at best a very rough estimate as we reduce neurons to lines and brain regions to cells in an arbitrary grid. How could you improve on this? The original [paper](https://doi.org/10.1016/j.neuron.2019.04.034) may provide some ideas.    \n",
    "* **Bilateral symmetry** - in biology many structures are symmetrical across the midline. How similar are the left and right sides of the larval zebrafish brain? Are there any areas which are asymmetrical in their connectivity?    \n",
    "* **Information flow** - this [paper](https://www.science.org/doi/10.1126/science.add9330#sec-4) uses a signal cascade algorithm to estimate how information flows through the *Drosophila* larva connectome. Try implementing their approach and see if you can discover any patterns in how signals flow through the larval zebrafish brain.    \n"
   ]
  }
 ],
 "metadata": {
  "kernelspec": {
   "display_name": "ZF_Anatomy",
   "language": "python",
   "name": "python3"
  },
  "language_info": {
   "codemirror_mode": {
    "name": "ipython",
    "version": 3
   },
   "file_extension": ".py",
   "mimetype": "text/x-python",
   "name": "python",
   "nbconvert_exporter": "python",
   "pygments_lexer": "ipython3",
   "version": "3.9.12"
  }
 },
 "nbformat": 4,
 "nbformat_minor": 2
}
