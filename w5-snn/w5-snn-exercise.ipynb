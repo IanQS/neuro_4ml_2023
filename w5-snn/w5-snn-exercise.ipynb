{
 "cells": [
  {
   "cell_type": "markdown",
   "metadata": {},
   "source": [
    "# Week 5 - Training spiking neural networks - Exercise\n",
    "\n",
    "This exercise builds on the surrogate gradient descent method."
   ]
  },
  {
   "cell_type": "markdown",
   "metadata": {},
   "source": [
    "\n",
    "## Part 1 - SPyTorch tutorial\n",
    "\n",
    "For the first part, familiarise yourself with the surrogate gradient descent algorithm using the [SPyTorch tutorial](https://github.com/fzenke/spytorch).\n",
    "\n",
    "You can launch the first notebook in Colab here:\n",
    "\n",
    "[![Open in Colab](https://colab.research.google.com/assets/colab-badge.svg)](https://colab.research.google.com/github/fzenke/spytorch/blob/main/notebooks/SpyTorchTutorial1.ipynb)\n",
    "\n",
    "In addition to the main videos from this week, you might find the following introductory video helpful:\n",
    "\n",
    "<iframe width=\"560\" height=\"315\" src=\"https://www.youtube-nocookie.com/embed/xPYiAjceAqU?si=N2VlXkHUfoEo-HF5\" title=\"YouTube video player\" frameborder=\"0\" allow=\"accelerometer; autoplay; clipboard-write; encrypted-media; gyroscope; picture-in-picture; web-share\" allowfullscreen></iframe>"
   ]
  },
  {
   "cell_type": "markdown",
   "metadata": {},
   "source": [
    "## Part 2 - Sound localisation network\n",
    "\n",
    "For the second part, work through the sound localisation network tutorial (notebook 3) from my [Cosyne tutorial on spiking neural networks](https://neural-reckoning.github.io/cosyne-tutorial-2022/).\n",
    "\n",
    "[![Open in Colab](https://colab.research.google.com/assets/colab-badge.svg)](https://colab.research.google.com/github/neural-reckoning/cosyne-tutorial-2022/blob/main/3-surrogate-sound-localisation.ipynb)"
   ]
  }
 ],
 "metadata": {
  "language_info": {
   "name": "python"
  }
 },
 "nbformat": 4,
 "nbformat_minor": 2
}
